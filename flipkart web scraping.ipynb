{
 "cells": [
  {
   "cell_type": "code",
   "execution_count": 2,
   "id": "b9779b8d",
   "metadata": {},
   "outputs": [],
   "source": [
    "import requests\n",
    "from bs4 import BeautifulSoup\n",
    "import csv\n",
    "import pandas as p"
   ]
  },
  {
   "cell_type": "code",
   "execution_count": 3,
   "id": "8178a9f0",
   "metadata": {},
   "outputs": [],
   "source": [
    "url=\"https://www.flipkart.com/search?q=mobiles\"\n",
    "r=requests.get(url)"
   ]
  },
  {
   "cell_type": "code",
   "execution_count": 4,
   "id": "cd5b2393",
   "metadata": {},
   "outputs": [],
   "source": [
    "soup=BeautifulSoup(r.content,\"html.parser\")"
   ]
  },
  {
   "cell_type": "code",
   "execution_count": 5,
   "id": "1681c4f7",
   "metadata": {},
   "outputs": [],
   "source": [
    "title=soup.find_all('div',class_='_4rR01T')\n",
    "ratings=soup.find_all('div',class_='_3LWZlK')\n",
    "reviews=soup.find_all('span',class_='_2_R_DZ')\n",
    "prices=soup.find_all('div',class_='_30jeq3 _1_WHN1')"
   ]
  },
  {
   "cell_type": "code",
   "execution_count": 6,
   "id": "5057d853",
   "metadata": {},
   "outputs": [],
   "source": [
    "mt=[]\n",
    "mr=[]\n",
    "mre=[]\n",
    "mp=[]"
   ]
  },
  {
   "cell_type": "code",
   "execution_count": 10,
   "id": "4173c6b5",
   "metadata": {},
   "outputs": [],
   "source": [
    "for title,rating,review,price in zip(title,ratings,reviews,prices):\n",
    "    mt.append(title.text)\n",
    "    mr.append(rating.text)\n",
    "    mre.append(review.text)\n",
    "    mp.append(price.text)"
   ]
  },
  {
   "cell_type": "code",
   "execution_count": 13,
   "id": "4b5f275d",
   "metadata": {},
   "outputs": [],
   "source": [
    "d={'mt':mt,'mr':mr,'mre':mre,'mp':mp}"
   ]
  },
  {
   "cell_type": "code",
   "execution_count": 14,
   "id": "adfae092",
   "metadata": {},
   "outputs": [],
   "source": [
    "model=p.DataFrame(data=d)"
   ]
  },
  {
   "cell_type": "code",
   "execution_count": 15,
   "id": "dc5fcee4",
   "metadata": {},
   "outputs": [],
   "source": [
    "model.to_csv(\"flipkart mobile data.csv\")"
   ]
  },
  {
   "cell_type": "code",
   "execution_count": null,
   "id": "f62ee34e",
   "metadata": {},
   "outputs": [],
   "source": []
  }
 ],
 "metadata": {
  "kernelspec": {
   "display_name": "Python 3 (ipykernel)",
   "language": "python",
   "name": "python3"
  },
  "language_info": {
   "codemirror_mode": {
    "name": "ipython",
    "version": 3
   },
   "file_extension": ".py",
   "mimetype": "text/x-python",
   "name": "python",
   "nbconvert_exporter": "python",
   "pygments_lexer": "ipython3",
   "version": "3.10.0"
  }
 },
 "nbformat": 4,
 "nbformat_minor": 5
}
